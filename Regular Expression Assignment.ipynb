{
 "cells": [
  {
   "cell_type": "code",
   "execution_count": 4,
   "id": "9ce84833",
   "metadata": {},
   "outputs": [],
   "source": [
    "#1\n",
    "import re\n",
    "def check_string_characters(input_string):\n",
    "    pattern = r'^[a-zA-Z0-9]+$'\n",
    "    match = re.match(pattern, input_string)\n",
    "    if match:\n",
    "        return True\n",
    "    else:\n",
    "        return False"
   ]
  },
  {
   "cell_type": "code",
   "execution_count": 6,
   "id": "0a304023",
   "metadata": {},
   "outputs": [
    {
     "name": "stdout",
     "output_type": "stream",
     "text": [
      "Enter a string: Sunit\n",
      "The string contains only a-z, A-Z, and 0-9.\n"
     ]
    }
   ],
   "source": [
    "#example\n",
    "input_string = input(\"Enter a string: \")\n",
    "if check_string_characters(input_string):\n",
    "    print(\"The string contains only a-z, A-Z, and 0-9.\")\n",
    "else:\n",
    "    print(\"The string contains other characters as well.\")"
   ]
  },
  {
   "cell_type": "code",
   "execution_count": 8,
   "id": "06359f32",
   "metadata": {},
   "outputs": [],
   "source": [
    "#2\n",
    "import re\n",
    "\n",
    "def match_pattern(input_string):\n",
    "    pattern = r'^ab*$'\n",
    "    match = re.match(pattern, input_string)\n",
    "    if match:\n",
    "        return True\n",
    "    else:\n",
    "        return False"
   ]
  },
  {
   "cell_type": "code",
   "execution_count": 11,
   "id": "9c6b2f47",
   "metadata": {},
   "outputs": [
    {
     "name": "stdout",
     "output_type": "stream",
     "text": [
      "Enter a string: London\n",
      "The string does not match the pattern.\n"
     ]
    }
   ],
   "source": [
    "#example\n",
    "input_string = input(\"Enter a string: \")\n",
    "if match_pattern(input_string):\n",
    "    print(\"The string matches the pattern 'a' followed by zero or more 'b's.\")\n",
    "else:\n",
    "    print(\"The string does not match the pattern.\")"
   ]
  },
  {
   "cell_type": "markdown",
   "id": "0a3fac33",
   "metadata": {},
   "source": [
    "#3"
   ]
  },
  {
   "cell_type": "code",
   "execution_count": 12,
   "id": "b6e194a5",
   "metadata": {},
   "outputs": [],
   "source": [
    "import re\n",
    "\n",
    "def match_pattern(input_string):\n",
    "    pattern = r'^ab+$'\n",
    "    match = re.match(pattern, input_string)\n",
    "    if match:\n",
    "        return True\n",
    "    else:\n",
    "        return False"
   ]
  },
  {
   "cell_type": "code",
   "execution_count": 13,
   "id": "0a85b2b9",
   "metadata": {},
   "outputs": [
    {
     "name": "stdout",
     "output_type": "stream",
     "text": [
      "Enter a string: Sunit\n",
      "The string does not match the pattern.\n"
     ]
    }
   ],
   "source": [
    "#example\n",
    "input_string = input(\"Enter a string: \")\n",
    "if match_pattern(input_string):\n",
    "    print(\"The string matches the pattern 'a' followed by one or more 'b's.\")\n",
    "else:\n",
    "    print(\"The string does not match the pattern.\")"
   ]
  },
  {
   "cell_type": "code",
   "execution_count": 14,
   "id": "9a138cc2",
   "metadata": {},
   "outputs": [],
   "source": [
    "#4\n",
    "import re\n",
    "\n",
    "def match_pattern(input_string):\n",
    "    pattern = r'^ab?$'\n",
    "    match = re.match(pattern, input_string)\n",
    "    if match:\n",
    "        return True\n",
    "    else:\n",
    "        return False"
   ]
  },
  {
   "cell_type": "code",
   "execution_count": 15,
   "id": "2a28a0da",
   "metadata": {},
   "outputs": [
    {
     "name": "stdout",
     "output_type": "stream",
     "text": [
      "Enter a string: Bribe\n",
      "The string does not match the pattern.\n"
     ]
    }
   ],
   "source": [
    "#example\n",
    "input_string = input(\"Enter a string: \")\n",
    "if match_pattern(input_string):\n",
    "    print(\"The string matches the pattern 'a' followed by zero or one 'b'.\")\n",
    "else:\n",
    "    print(\"The string does not match the pattern.\")"
   ]
  },
  {
   "cell_type": "code",
   "execution_count": 16,
   "id": "212555b6",
   "metadata": {},
   "outputs": [],
   "source": [
    "#5\n",
    "import re\n",
    "\n",
    "def match_pattern(input_string):\n",
    "    pattern = r'^abbb$'\n",
    "    match = re.match(pattern, input_string)\n",
    "    if match:\n",
    "        return True\n",
    "    else:\n",
    "        return False"
   ]
  },
  {
   "cell_type": "code",
   "execution_count": null,
   "id": "593b71da",
   "metadata": {},
   "outputs": [],
   "source": [
    "#example\n",
    "input_string = input(\"Enter a string: \")\n",
    "if match_pattern(input_string):\n",
    "    print(\"The string matches the pattern 'a' followed by three 'b's.\")\n",
    "else:\n",
    "    print(\"The string does not match the pattern.\")"
   ]
  },
  {
   "cell_type": "code",
   "execution_count": null,
   "id": "c98258f9",
   "metadata": {},
   "outputs": [],
   "source": [
    "#6\n",
    "import re\n",
    "\n",
    "def split_string_into_uppercase(text):\n",
    "    pattern = r'(?=[A-Z])'  # Positive lookahead for uppercase letters\n",
    "    result = re.split(pattern, text)\n",
    "    return result"
   ]
  },
  {
   "cell_type": "code",
   "execution_count": null,
   "id": "04090987",
   "metadata": {},
   "outputs": [],
   "source": [
    "#example\n",
    "input_text = \"ImportanceOfRegularExpressionsInPython\"\n",
    "output = split_string_into_uppercase(input_text)\n",
    "print(output)"
   ]
  },
  {
   "cell_type": "code",
   "execution_count": null,
   "id": "af119694",
   "metadata": {},
   "outputs": [],
   "source": [
    "#7\n",
    "import re\n",
    "\n",
    "def match_pattern(input_string):\n",
    "    pattern = r'^ab{2,3}$'\n",
    "    match = re.match(pattern, input_string)\n",
    "    if match:\n",
    "        return True\n",
    "    else:\n",
    "        return False"
   ]
  },
  {
   "cell_type": "code",
   "execution_count": null,
   "id": "cbbe4a51",
   "metadata": {},
   "outputs": [],
   "source": [
    "#example\n",
    "input_string = input(\"Enter a string: \")\n",
    "if match_pattern(input_string):\n",
    "    print(\"The string matches the pattern 'a' followed by two to three 'b's.\")\n",
    "else:\n",
    "    print(\"The string does not match the pattern.\")"
   ]
  },
  {
   "cell_type": "code",
   "execution_count": null,
   "id": "201b30c4",
   "metadata": {},
   "outputs": [],
   "source": [
    "#8\n",
    "import re\n",
    "\n",
    "def find_lowercase_sequences_with_underscore(input_string):\n",
    "    pattern = r'[a-z]+_[a-z]+'\n",
    "    matches = re.findall(pattern, input_string)\n",
    "    return matches"
   ]
  },
  {
   "cell_type": "code",
   "execution_count": null,
   "id": "c431ab86",
   "metadata": {},
   "outputs": [],
   "source": [
    "#example\n",
    "input_string = input(\"Enter a string: \")\n",
    "result = find_lowercase_sequences_with_underscore(input_string)\n",
    "print(\"Sequences of lowercase letters joined with an underscore:\")\n",
    "print(result)"
   ]
  },
  {
   "cell_type": "code",
   "execution_count": null,
   "id": "789930b0",
   "metadata": {},
   "outputs": [],
   "source": [
    "#9\n",
    "import re\n",
    "\n",
    "def match_pattern(input_string):\n",
    "    pattern = r'^a.*b$'\n",
    "    match = re.match(pattern, input_string)\n",
    "    if match:\n",
    "        return True\n",
    "    else:\n",
    "        return False"
   ]
  },
  {
   "cell_type": "code",
   "execution_count": null,
   "id": "90405dc3",
   "metadata": {},
   "outputs": [],
   "source": [
    "#example\n",
    "input_string = input(\"Enter a string: \")\n",
    "if match_pattern(input_string):\n",
    "    print(\"The string matches the pattern: 'a' followed by anything, ending in 'b'.\")\n",
    "else:\n",
    "    print(\"The string does not match the pattern.\")"
   ]
  },
  {
   "cell_type": "code",
   "execution_count": null,
   "id": "8251504a",
   "metadata": {},
   "outputs": [],
   "source": [
    "#10\n",
    "import re\n",
    "\n",
    "def match_word_at_beginning(input_string, word):\n",
    "    pattern = r'^' + word + r'\\b'\n",
    "    match = re.search(pattern, input_string)\n",
    "    if match:\n",
    "        return True\n",
    "    else:\n",
    "        return False"
   ]
  },
  {
   "cell_type": "code",
   "execution_count": null,
   "id": "58b4dd6b",
   "metadata": {},
   "outputs": [],
   "source": [
    "#example\n",
    "input_string = input(\"Enter a string: \")\n",
    "word_to_match = input(\"Enter a word to match at the beginning of the string: \")\n",
    "if match_word_at_beginning(input_string, word_to_match):\n",
    "    print(\"The word '{}' is found at the beginning of the string.\".format(word_to_match))\n",
    "else:\n",
    "    print(\"The word '{}' is not found at the beginning of the string.\".format(word_to_match))"
   ]
  },
  {
   "cell_type": "code",
   "execution_count": null,
   "id": "bc7ebbe4",
   "metadata": {},
   "outputs": [],
   "source": [
    "#11\n",
    "import re\n",
    "\n",
    "def match_pattern(input_string):\n",
    "    pattern = r'^[a-zA-Z0-9_]+$'\n",
    "    match = re.match(pattern, input_string)\n",
    "    if match:\n",
    "        return True\n",
    "    else:\n",
    "        return False"
   ]
  },
  {
   "cell_type": "code",
   "execution_count": null,
   "id": "0c293594",
   "metadata": {},
   "outputs": [],
   "source": [
    "#example\n",
    "input_string = input(\"Enter a string: \")\n",
    "if match_pattern(input_string):\n",
    "    print(\"The string contains only upper and lowercase letters, numbers, and underscores.\")\n",
    "else:\n",
    "    print(\"The string contains other characters as well.\")"
   ]
  },
  {
   "cell_type": "code",
   "execution_count": null,
   "id": "94a9cc3c",
   "metadata": {},
   "outputs": [],
   "source": [
    "#12\n",
    "def check_start_with_number(input_string, number):\n",
    "    if input_string.startswith(str(number)):\n",
    "        return True\n",
    "    else:\n",
    "        return False"
   ]
  },
  {
   "cell_type": "code",
   "execution_count": null,
   "id": "783a398a",
   "metadata": {},
   "outputs": [],
   "source": [
    "#example\n",
    "input_string = input(\"Enter a string: \")\n",
    "number_to_check = input(\"Enter a number to check if the string starts with it: \")\n",
    "\n",
    "if check_start_with_number(input_string, number_to_check):\n",
    "    print(\"The string starts with the number {}.\".format(number_to_check))\n",
    "else:\n",
    "    print(\"The string does not start with the number {}.\".format(number_to_check))"
   ]
  },
  {
   "cell_type": "code",
   "execution_count": null,
   "id": "259badba",
   "metadata": {},
   "outputs": [],
   "source": [
    "#13\n",
    "import re\n",
    "\n",
    "def remove_leading_zeros(ip_address):\n",
    "    pattern = r'\\b0+(\\d+)\\b'\n",
    "    result = re.sub(pattern, r'\\1', ip_address)\n",
    "    return result"
   ]
  },
  {
   "cell_type": "code",
   "execution_count": null,
   "id": "3cf71564",
   "metadata": {},
   "outputs": [],
   "source": [
    "#example\n",
    "input_ip = input(\"Enter an IP address: \")\n",
    "modified_ip = remove_leading_zeros(input_ip)\n",
    "print(\"Modified IP address:\", modified_ip)"
   ]
  },
  {
   "cell_type": "code",
   "execution_count": null,
   "id": "eea38f35",
   "metadata": {},
   "outputs": [],
   "source": [
    "#14\n",
    "import re\n",
    "\n",
    "def extract_date_from_text(text):\n",
    "    pattern = r'[A-Z][a-z]+\\s\\d{1,2}(st|nd|rd|th)?\\s\\d{4}'\n",
    "    match = re.match(pattern, text)\n",
    "    if match:\n",
    "        return match.group(0)\n",
    "    else:\n",
    "        return None"
   ]
  },
  {
   "cell_type": "code",
   "execution_count": null,
   "id": "6b10e9c1",
   "metadata": {},
   "outputs": [],
   "source": [
    "#example\n",
    "input_text = \"On August 15th 1947 that India was declared independent from British colonialism, and the reins of control were handed over to the leaders of the Country.\"\n",
    "date = extract_date_from_text(input_text)\n",
    "if date:\n",
    "    print(\"Date found:\", date)\n",
    "else:\n",
    "    print(\"No date found.\")"
   ]
  },
  {
   "cell_type": "code",
   "execution_count": null,
   "id": "9c65cb27",
   "metadata": {},
   "outputs": [],
   "source": [
    "#15\n",
    "import re\n",
    "\n",
    "def search_literals(text, words):\n",
    "    found_words = []\n",
    "    for word in words:\n",
    "        pattern = r'\\b{}\\b'.format(re.escape(word))\n",
    "        match = re.search(pattern, text)\n",
    "        if match:\n",
    "            found_words.append(word)\n",
    "    return found_words"
   ]
  },
  {
   "cell_type": "code",
   "execution_count": null,
   "id": "e7ec157f",
   "metadata": {},
   "outputs": [],
   "source": [
    "#example\n",
    "input_text = 'The quick brown fox jumps over the lazy dog.'\n",
    "searched_words = ['fox', 'dog', 'horse']\n",
    "found_words = search_literals(input_text, searched_words)\n",
    "print(\"Words found:\", found_words)"
   ]
  },
  {
   "cell_type": "code",
   "execution_count": null,
   "id": "ed5b3370",
   "metadata": {},
   "outputs": [],
   "source": [
    "#16\n",
    "import re\n",
    "\n",
    "def search_and_find_locations(text, word):\n",
    "    pattern = re.escape(word)\n",
    "    matches = re.finditer(pattern, text)\n",
    "    locations = []\n",
    "    for match in matches:\n",
    "        start = match.start()\n",
    "        end = match.end()\n",
    "        locations.append((start, end))\n",
    "    return locations"
   ]
  },
  {
   "cell_type": "code",
   "execution_count": null,
   "id": "ad23b417",
   "metadata": {},
   "outputs": [],
   "source": [
    "#example\n",
    "input_text = 'The quick brown fox jumps over the lazy dog'\n",
    "searched_word = 'fox'\n",
    "word_locations = search_and_find_locations(input_text, searched_word)\n",
    "print(\"Word locations:\", word_locations)"
   ]
  },
  {
   "cell_type": "code",
   "execution_count": null,
   "id": "f5946f3d",
   "metadata": {},
   "outputs": [],
   "source": [
    "#17\n",
    "import re\n",
    "\n",
    "def find_substrings(text, pattern):\n",
    "    matches = re.finditer(pattern, text)\n",
    "    substrings = []\n",
    "    for match in matches:\n",
    "        substrings.append(match.group(0))\n",
    "    return substrings"
   ]
  },
  {
   "cell_type": "code",
   "execution_count": null,
   "id": "b818dfd3",
   "metadata": {},
   "outputs": [],
   "source": [
    "#example\n",
    "input_text = 'Python exercises, PHP exercises, C# exercises'\n",
    "pattern = 'exercises'\n",
    "found_substrings = find_substrings(input_text, pattern)\n",
    "print(\"Substrings found:\", found_substrings)"
   ]
  },
  {
   "cell_type": "code",
   "execution_count": null,
   "id": "92ae660b",
   "metadata": {},
   "outputs": [],
   "source": [
    "#18\n",
    "import re\n",
    "\n",
    "def find_occurrences_and_positions(text, pattern):\n",
    "    matches = re.finditer(pattern, text)\n",
    "    occurrences = []\n",
    "    for match in matches:\n",
    "        start = match.start()\n",
    "        end = match.end()\n",
    "        substring = match.group(0)\n",
    "        occurrences.append((substring, start, end))\n",
    "    return occurrences"
   ]
  },
  {
   "cell_type": "code",
   "execution_count": null,
   "id": "3748277d",
   "metadata": {},
   "outputs": [],
   "source": [
    "#example\n",
    "input_text = 'Python exercises, PHP exercises, C# exercises'\n",
    "pattern = 'exercises'\n",
    "occurrences = find_occurrences_and_positions(input_text, pattern)\n",
    "print(\"Occurrences and positions:\")\n",
    "for substring, start, end in occurrences:\n",
    "    print(\"Substring: {}, Position: {}-{}\".format(substring, start, end))"
   ]
  },
  {
   "cell_type": "code",
   "execution_count": null,
   "id": "f915282a",
   "metadata": {},
   "outputs": [],
   "source": [
    "#19\n",
    "import re\n",
    "\n",
    "def convert_date_format(date):\n",
    "    pattern = r'^(\\d{4})-(\\d{2})-(\\d{2})$'\n",
    "    match = re.match(pattern, date)\n",
    "    if match:\n",
    "        formatted_date = \"{}-{}-{}\".format(match.group(3), match.group(2), match.group(1))\n",
    "        return formatted_date\n",
    "    else:\n",
    "        return None"
   ]
  },
  {
   "cell_type": "code",
   "execution_count": null,
   "id": "129341b9",
   "metadata": {},
   "outputs": [],
   "source": [
    "#example\n",
    "input_date = input(\"Enter a date in yyyy-mm-dd format: \")\n",
    "converted_date = convert_date_format(input_date)\n",
    "if converted_date:\n",
    "    print(\"Converted date: \", converted_date)\n",
    "else:\n",
    "    print(\"Invalid date format.\")"
   ]
  },
  {
   "cell_type": "code",
   "execution_count": null,
   "id": "337a1415",
   "metadata": {},
   "outputs": [],
   "source": [
    "#20\n",
    "import re\n",
    "\n",
    "def find_words_starting_with_a_or_e(input_string):\n",
    "    pattern = r'\\b[ae]\\w+\\b'\n",
    "    matches = re.findall(pattern, input_string, re.IGNORECASE)\n",
    "    return matches"
   ]
  },
  {
   "cell_type": "code",
   "execution_count": null,
   "id": "3a1d8de3",
   "metadata": {},
   "outputs": [],
   "source": [
    "#example\n",
    "input_string = input(\"Enter a string: \")\n",
    "words = find_words_starting_with_a_or_e(input_string)\n",
    "print(\"Words starting with 'a' or 'e':\", words)"
   ]
  },
  {
   "cell_type": "code",
   "execution_count": null,
   "id": "0beb3931",
   "metadata": {},
   "outputs": [],
   "source": [
    "#21\n",
    "import re\n",
    "\n",
    "def separate_numbers_and_positions(input_string):\n",
    "    pattern = r'\\d+'\n",
    "    matches = re.finditer(pattern, input_string)\n",
    "    results = []\n",
    "    for match in matches:\n",
    "        number = match.group()\n",
    "        position = match.start()\n",
    "        results.append((number, position))\n",
    "    return results"
   ]
  },
  {
   "cell_type": "code",
   "execution_count": null,
   "id": "24a3fc4b",
   "metadata": {},
   "outputs": [],
   "source": [
    "#example\n",
    "input_string = input(\"Enter a string: \")\n",
    "number_positions = separate_numbers_and_positions(input_string)\n",
    "print(\"Numbers and their positions:\")\n",
    "for number, position in number_positions:\n",
    "    print(\"Number: {}, Position: {}\".format(number, position))"
   ]
  },
  {
   "cell_type": "code",
   "execution_count": null,
   "id": "f557be3c",
   "metadata": {},
   "outputs": [],
   "source": [
    "#22\n",
    "import re\n",
    "\n",
    "def extract_maximum_numeric_value(input_string):\n",
    "    pattern = r'\\d+'\n",
    "    matches = re.findall(pattern, input_string)\n",
    "    if matches:\n",
    "        max_value = max(map(int, matches))\n",
    "        return max_value\n",
    "    else:\n",
    "        return None"
   ]
  },
  {
   "cell_type": "code",
   "execution_count": null,
   "id": "74e83781",
   "metadata": {},
   "outputs": [],
   "source": [
    "#example\n",
    "input_string = input(\"Enter a string: \")\n",
    "max_numeric_value = extract_maximum_numeric_value(input_string)\n",
    "if max_numeric_value:\n",
    "    print(\"Maximum numeric value:\", max_numeric_value)\n",
    "else:\n",
    "    print(\"No numeric value found.\")"
   ]
  },
  {
   "cell_type": "code",
   "execution_count": null,
   "id": "d5da185a",
   "metadata": {},
   "outputs": [],
   "source": [
    "#23\n",
    "import re\n",
    "\n",
    "def add_spaces_between_capital_words(input_string):\n",
    "    pattern = r'([A-Z][a-z]+)'\n",
    "    result = re.sub(pattern, r' \\1', input_string)\n",
    "    return result"
   ]
  },
  {
   "cell_type": "code",
   "execution_count": null,
   "id": "fc189c6a",
   "metadata": {},
   "outputs": [],
   "source": [
    "#example\n",
    "input_string = input(\"Enter a string: \")\n",
    "modified_string = add_spaces_between_capital_words(input_string)\n",
    "print(\"Modified string:\", modified_string)"
   ]
  },
  {
   "cell_type": "code",
   "execution_count": null,
   "id": "f48eb3c6",
   "metadata": {},
   "outputs": [],
   "source": [
    "#24\n",
    "import re\n",
    "\n",
    "def find_sequences(input_string):\n",
    "    pattern = r'[A-Z][a-z]+'\n",
    "    matches = re.findall(pattern, input_string)\n",
    "    return matches"
   ]
  },
  {
   "cell_type": "code",
   "execution_count": null,
   "id": "bfb7a54e",
   "metadata": {},
   "outputs": [],
   "source": [
    "#example\n",
    "input_string = input(\"Enter a string: \")\n",
    "sequences = find_sequences(input_string)\n",
    "print(\"Sequences found:\", sequences)"
   ]
  },
  {
   "cell_type": "code",
   "execution_count": null,
   "id": "5d3b1888",
   "metadata": {},
   "outputs": [],
   "source": [
    "#25\n",
    "import re\n",
    "\n",
    "def remove_duplicate_words(sentence):\n",
    "    pattern = r'\\b(\\w+)\\b\\s+(?=.*\\b\\1\\b)'\n",
    "    result = re.sub(pattern, '', sentence)\n",
    "    return result"
   ]
  },
  {
   "cell_type": "code",
   "execution_count": null,
   "id": "2da3e488",
   "metadata": {},
   "outputs": [],
   "source": [
    "#example\n",
    "input_sentence = input(\"Enter a sentence: \")\n",
    "modified_sentence = remove_duplicate_words(input_sentence)\n",
    "print(\"Modified sentence:\", modified_sentence)"
   ]
  },
  {
   "cell_type": "code",
   "execution_count": null,
   "id": "05e82221",
   "metadata": {},
   "outputs": [],
   "source": [
    "#26\n",
    "import re\n",
    "\n",
    "def check_string_ending_with_alphanumeric(input_string):\n",
    "    pattern = r'^.*[a-zA-Z0-9]$'\n",
    "    match = re.match(pattern, input_string)\n",
    "    if match:\n",
    "        return True\n",
    "    else:\n",
    "        return False"
   ]
  },
  {
   "cell_type": "code",
   "execution_count": null,
   "id": "89ffdfe0",
   "metadata": {},
   "outputs": [],
   "source": [
    "#example\n",
    "input_string = input(\"Enter a string: \")\n",
    "if check_string_ending_with_alphanumeric(input_string):\n",
    "    print(\"String ends with an alphanumeric character.\")\n",
    "else:\n",
    "    print(\"String does not end with an alphanumeric character.\")"
   ]
  },
  {
   "cell_type": "code",
   "execution_count": null,
   "id": "2710a034",
   "metadata": {},
   "outputs": [],
   "source": [
    "#27\n",
    "import re\n",
    "\n",
    "def extract_hashtags(text):\n",
    "    pattern = r'#\\w+'\n",
    "    hashtags = re.findall(pattern, text)\n",
    "    return hashtags"
   ]
  },
  {
   "cell_type": "code",
   "execution_count": null,
   "id": "f717ae44",
   "metadata": {},
   "outputs": [],
   "source": [
    "#example\n",
    "text = \"\"\"RT @kapil_kausik: #Doltiwal I mean #xyzabc is \"hurt\" by #Demonetization as thesame has rendered USELESS <ed><U+00A0><U+00BD><U+00B1><U+0089> \"acquired funds\" No wo\"\"\"\n",
    "hashtags = extract_hashtags(text)\n",
    "print(\"Extracted hashtags:\", hashtags)"
   ]
  },
  {
   "cell_type": "code",
   "execution_count": null,
   "id": "9ea63f62",
   "metadata": {},
   "outputs": [],
   "source": [
    "#28\n",
    "import re\n",
    "\n",
    "def remove_unicode_symbols(text):\n",
    "    pattern = r'<U\\+\\w+>'\n",
    "    cleaned_text = re.sub(pattern, '', text)\n",
    "    return cleaned_text"
   ]
  },
  {
   "cell_type": "code",
   "execution_count": null,
   "id": "1ab06aa2",
   "metadata": {},
   "outputs": [],
   "source": [
    "#example\n",
    "text = \"@Jags123456 Bharat band on 28??<ed><U+00A0><U+00BD><ed><U+00B8><U+0082> Those who are protesting #demonetization are all different party leaders\"\n",
    "cleaned_text = remove_unicode_symbols(text)\n",
    "print(\"Cleaned text:\", cleaned_text)"
   ]
  },
  {
   "cell_type": "code",
   "execution_count": null,
   "id": "f50d9f47",
   "metadata": {},
   "outputs": [],
   "source": [
    "#29\n",
    "import re\n",
    "\n",
    "def extract_dates_from_file(file_path):\n",
    "    with open(file_path, 'r') as file:\n",
    "        text = file.read()\n",
    "    pattern = r'\\d{2}-\\d{2}-\\d{4}'\n",
    "    dates = re.findall(pattern, text)\n",
    "    return dates"
   ]
  },
  {
   "cell_type": "code",
   "execution_count": null,
   "id": "893efa7b",
   "metadata": {},
   "outputs": [],
   "source": [
    "#example\n",
    "file_path = 'sample_text.txt'\n",
    "dates = extract_dates_from_file(file_path)\n",
    "print(\"Extracted dates:\", dates)"
   ]
  },
  {
   "cell_type": "code",
   "execution_count": null,
   "id": "80a773a5",
   "metadata": {},
   "outputs": [],
   "source": [
    "#30\n",
    "import re\n",
    "\n",
    "def replace_spaces_commas_dots_with_colons(input_text):\n",
    "    pattern = r'[ ,.]'\n",
    "    replaced_text = re.sub(pattern, ':', input_text)\n",
    "    return replaced_text"
   ]
  },
  {
   "cell_type": "code",
   "execution_count": null,
   "id": "dcb2b4c1",
   "metadata": {},
   "outputs": [],
   "source": [
    "#example\n",
    "input_text = 'Python Exercises, PHP exercises.'\n",
    "modified_text = replace_spaces_commas_dots_with_colons(input_text)\n",
    "print(\"Modified text:\", modified_text)"
   ]
  },
  {
   "cell_type": "code",
   "execution_count": null,
   "id": "c9e15885",
   "metadata": {},
   "outputs": [],
   "source": []
  }
 ],
 "metadata": {
  "kernelspec": {
   "display_name": "Python 3 (ipykernel)",
   "language": "python",
   "name": "python3"
  },
  "language_info": {
   "codemirror_mode": {
    "name": "ipython",
    "version": 3
   },
   "file_extension": ".py",
   "mimetype": "text/x-python",
   "name": "python",
   "nbconvert_exporter": "python",
   "pygments_lexer": "ipython3",
   "version": "3.9.13"
  }
 },
 "nbformat": 4,
 "nbformat_minor": 5
}
